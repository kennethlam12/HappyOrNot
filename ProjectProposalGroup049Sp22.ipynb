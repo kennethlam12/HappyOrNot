{
 "cells": [
  {
   "cell_type": "markdown",
   "metadata": {},
   "source": [
    "# COGS 108 - Final Project Proposal"
   ]
  },
  {
   "cell_type": "markdown",
   "metadata": {},
   "source": [
    "# Names\n",
    "\n",
    "- Kenneth Lam\n",
    "- Bateliel Bassa\n",
    "- Zhi Liang"
   ]
  },
  {
   "cell_type": "markdown",
   "metadata": {},
   "source": [
    "# Research Question"
   ]
  },
  {
   "cell_type": "markdown",
   "metadata": {},
   "source": [
    "We want to see if there is a correlation between happiness and suicide in different countries. \n",
    "We can do this by looking at the different factors of happiness in different countries and comparing their suicide rates.\n",
    "\n",
    "An example research question would be: \"Is there any correlation between countries' metrics in the World Happiness Report, as established by the similarly named organization, and suicide statistics provided by the World Health Organization during the time period of 2005 to 2017?\""
   ]
  },
  {
   "cell_type": "markdown",
   "metadata": {},
   "source": [
    "## Background and Prior Work"
   ]
  },
  {
   "cell_type": "markdown",
   "metadata": {},
   "source": [
    "Happiness is a important state for most people to feel for their day to day lives. These world happiness reports, as said by experts in various fields such as economy and national statistics, are used in order to help define the progress of nations along with other things.(1)  This can be seen in the use of well being surveys, a model to measure individual happiness was used in order to rank individual cities conditions. (2)\n",
    "\n",
    "Suicide, on the other hand, as a topic itself that could widely be considered the opposite to happiness. For example, the association of suicide with another particularly negative topic, unemployment, led to a 2-3 times chance of death from suicide.(3) Using this as a measure of the opposite to the world happiness scale, we should be able to potentially see an effect between the two.\n",
    "\n",
    "(1): https://en.wikipedia.org/wiki/World_Happiness_Report#cite_note-8\n",
    "(2): https://worldhappiness.report/ed/2020/cities-and-happiness-a-global-ranking-and-analysis/\n",
    "(3): https://jech.bmj.com/content/57/8/594\n"
   ]
  },
  {
   "cell_type": "markdown",
   "metadata": {},
   "source": [
    "# Hypothesis\n"
   ]
  },
  {
   "cell_type": "markdown",
   "metadata": {},
   "source": [
    "Our hypothesis is that countries with lower happiness will have more suicides. This is due to the fact that one of the main causes of suicide is depression and places with lower happiness rates tend to have less happy people. \n",
    "Another reason a country with a lower happiness rate might be more prone to suicides is drug abuse. People may turn to drugs to increase their happiness levels in the short run, but long term use of drugs is linked to suicidal thoughts."
   ]
  },
  {
   "cell_type": "markdown",
   "metadata": {},
   "source": [
    "# Data"
   ]
  },
  {
   "cell_type": "markdown",
   "metadata": {},
   "source": [
    "The variables we would have in our data are the years in which the data was taken, the happiness levels of different factors within a certain country, the country in which the suicides took place, the number of suicides in a particular country, and the total amount of people in that country. \n",
    "We can store these variables in a table where every country has the above information for a certain year. \n",
    "We should have observations for 20 or more countries so we will be able to compare how the difference in happiness level in those countries affect suicide rates. \n",
    "The observations would be of different countries, their suicide rates, their happiness levels, etc. and the time period would be from 2005-2017."
   ]
  },
  {
   "cell_type": "markdown",
   "metadata": {},
   "source": [
    "# Ethics & Privacy"
   ]
  },
  {
   "cell_type": "markdown",
   "metadata": {},
   "source": [
    "There are some privacy issues with the data we proposed. We do not want to cause any extra grief to families, so we should strip all personal info from our suicide data that could be used to identify individuals. \n",
    "\n",
    "When it comes to our research question itself, we do not expect any ethics issues from this, as while the topic of suicide may be morally depressing, we do not believe any real, tangible harm would come from our results from this question.\n",
    "\n",
    "Our use of these datasets should not create any ethical issues either, as they were taken from Kaggle, and in no way do we plan on using this data for anything outside the original source's intentions(WHO and World Happiness Report).\n",
    "\n",
    "A potential bias in our dataset(s) may be where we get our happiness levels from. A country may try to inflate their happiness level to look better to the public. \n",
    "We can detect these specific biases by getting data from multiple sources and see if they line up with each other."
   ]
  },
  {
   "cell_type": "markdown",
   "metadata": {},
   "source": [
    "# Team Expectations "
   ]
  },
  {
   "cell_type": "markdown",
   "metadata": {},
   "source": [
    "* *Each team member will look over each other's work to ensure accurate information is being shown.*\n",
    "* *Team members will divulge, in advance, any activies they have which may impact the amount of work done that week. *\n",
    "* *Team members will dedicate time slot on Friday and discuss findings, and progress on assigned work.*\n",
    "* *Team members will work collaboratively to wrangle data and make a good dataset.*\n",
    "* *Team members will commmunicate through Discord.*"
   ]
  },
  {
   "cell_type": "markdown",
   "metadata": {},
   "source": [
    "# Project Timeline Proposal"
   ]
  },
  {
   "cell_type": "markdown",
   "metadata": {},
   "source": [
    "| Meeting Date  | Meeting Time| Completed Before Meeting  | Discuss at Meeting |\n",
    "|---|---|---|---|\n",
    "| 4/18  |  5 PM | Read & Think about COGS 108 expectations; brainstorm topics/questions  | Determine best form of communication; Discuss and decide on final project topic; discuss hypothesis; begin background research | \n",
    "| 4/20  |  11 AM |  Do background research on topic | Discuss ideal dataset(s) and ethics; draft project proposal | \n",
    "| 4/22  | 5 PM  | Edit, finalize, and submit proposal; Search for datasets  | Discuss Wrangling and possible analytical approaches; Assign group members to lead each specific part   |\n",
    "| 4/27  | 6 PM  | Import & Wrangle Data (Bateliel Bassa; Kenneth Lam); EDA (Zhi Liang) | Review/Edit wrangling/EDA; Discuss Analysis Plan   |\n",
    "| 5/13  | 3 PM  | Finalize wrangling/EDA; Begin Analysis (Kenneth Lam; Zhi Liang) | Discuss/edit Analysis; Complete project check-in |\n",
    "| 5/23  | 4 PM  | Complete analysis; Draft results/conclusion/discussion (Wasp)| Discuss/edit full project |\n",
    "| 6/6  | Before 11:59 PM  | NA | Turn in Final Project & Group Project Surveys |"
   ]
  }
 ],
 "metadata": {
  "kernelspec": {
   "display_name": "Python 3",
   "language": "python",
   "name": "python3"
  },
  "language_info": {
   "codemirror_mode": {
    "name": "ipython",
    "version": 3
   },
   "file_extension": ".py",
   "mimetype": "text/x-python",
   "name": "python",
   "nbconvert_exporter": "python",
   "pygments_lexer": "ipython3",
   "version": "3.7.9"
  }
 },
 "nbformat": 4,
 "nbformat_minor": 2
}
